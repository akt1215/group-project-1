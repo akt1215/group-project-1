{
 "cells": [
  {
   "cell_type": "code",
   "execution_count": 1,
   "id": "ed63470a",
   "metadata": {},
   "outputs": [],
   "source": [
    "# import the functions for reading in the data files from project1.py\n",
    "from project1 import load_air_quality, load_uhf_maps, search_by_zip, search_by_date\n",
    "import os\n",
    "\n",
    "# keep explicit path variables in the notebook (project1.py uses its own module-level paths),\n",
    "# but importing the loader functions lets us call them directly:\n",
    "current_dir = os.getcwd()\n",
    "AIR_PATH = os.path.join(current_dir, 'air_quality.csv')\n",
    "UHF_PATH = os.path.join(current_dir, 'uhf.csv')\n",
    "\n",
    "air_quality_data = load_air_quality()\n",
    "uhf_data = load_uhf_maps()"
   ]
  },
  {
   "cell_type": "code",
   "execution_count": 2,
   "id": "77c05d41",
   "metadata": {},
   "outputs": [],
   "source": [
    "measurements, by_geo, by_date = load_air_quality()\n",
    "zip_to_uhf, borough_to_uhf = load_uhf_maps()"
   ]
  },
  {
   "cell_type": "code",
   "execution_count": 3,
   "id": "e3e4d0b6",
   "metadata": {},
   "outputs": [
    {
     "name": "stdout",
     "output_type": "stream",
     "text": [
      "Highest PM2.5 in 10027: 14.56\n",
      "Lowest PM2.5 in 10027: 7.36\n"
     ]
    }
   ],
   "source": [
    "# a) What was the highest and lowest pollution measurement ever recorded in zip code 10027?\n",
    "data = search_by_zip('10027', zip_to_uhf, by_geo)\n",
    "\n",
    "# Find the highest and lowest PM2.5 values in the data\n",
    "pm25_values = [entry[3] for entry in data]\n",
    "highest_pm25 = max(pm25_values)\n",
    "lowest_pm25 = min(pm25_values)\n",
    "print(f\"Highest PM2.5 in 10027: {highest_pm25}\")\n",
    "print(f\"Lowest PM2.5 in 10027: {lowest_pm25}\")"
   ]
  },
  {
   "cell_type": "code",
   "execution_count": 4,
   "id": "eb57a21b",
   "metadata": {},
   "outputs": [
    {
     "name": "stdout",
     "output_type": "stream",
     "text": [
      "Worst pollution in 2019 was UHF id 306 with PM2.5 of 11.38\n"
     ]
    }
   ],
   "source": [
    "# b) Which UHF id had the worst pollution in 2019.\n",
    "\n",
    "worst_pollutino = 0\n",
    "worst_uhf_id = ''\n",
    "\n",
    "for key in by_date.keys():\n",
    "    if key.split('/')[-1] != '19':\n",
    "        continue\n",
    "    data = search_by_date(key, by_date)\n",
    "    pm25_values = [entry[3] for entry in data]\n",
    "    max_pm25 = max(pm25_values)\n",
    "    if max_pm25 > worst_pollutino:\n",
    "        worst_pollutino = max_pm25\n",
    "        worst_uhf_id = data[pm25_values.index(max_pm25)][0]\n",
    "print(f\"Worst pollution in 2019 was UHF id {worst_uhf_id} with PM2.5 of {worst_pollutino}\")"
   ]
  },
  {
   "cell_type": "code",
   "execution_count": 5,
   "id": "ec151e95",
   "metadata": {},
   "outputs": [
    {
     "name": "stdout",
     "output_type": "stream",
     "text": [
      "Average PM2.5 in Manhattan in 2008: 15.335\n",
      "Average PM2.5 in Manhattan in 2019: 9.8725\n"
     ]
    }
   ],
   "source": [
    "# c) What was the average air pollution in Manhattan in 2008? What was the average pollution in Manhattan in 2019.\n",
    "data_2008 = []\n",
    "data_2019 = []\n",
    "\n",
    "for key in by_date.keys():\n",
    "    if key.split('/')[-1] == '08':\n",
    "        data = search_by_date(key, by_date)\n",
    "        pm25_values = [entry[3] for entry in data if \"Manhattan\" in entry[1]]\n",
    "        data_2008.extend(pm25_values)\n",
    "    elif key.split('/')[-1] == '19':\n",
    "        data = search_by_date(key, by_date)\n",
    "        pm25_values = [entry[3] for entry in data if \"Manhattan\" in entry[1]]\n",
    "        data_2019.extend(pm25_values)\n",
    "avg_2008 = sum(data_2008) / len(data_2008)\n",
    "avg_2019 = sum(data_2019) / len(data_2019)\n",
    "print(f\"Average PM2.5 in Manhattan in 2008: {avg_2008}\")\n",
    "print(f\"Average PM2.5 in Manhattan in 2019: {avg_2019}\")\n",
    "    "
   ]
  },
  {
   "cell_type": "code",
   "execution_count": 6,
   "id": "8c2f359c",
   "metadata": {},
   "outputs": [
    {
     "name": "stdout",
     "output_type": "stream",
     "text": [
      "Average PM2.5 in South Bronx in 2020: 7.39\n",
      "Average PM2.5 in Southern SI in 2020: 6.55\n",
      "Average PM2.5 in Northern SI in 2020: 6.67\n",
      "Average PM2.5 in Bayside Little Neck-Fresh Meadows in 2020: 6.71\n",
      "Average PM2.5 in Union Square-Lower Manhattan in 2020: 8.02\n",
      "Average PM2.5 in Chelsea-Village in 2020: 8.61\n",
      "Average PM2.5 in Upper East Side-Gramercy in 2020: 7.89\n",
      "Average PM2.5 in Rockaways in 2020: 6.27\n",
      "Average PM2.5 in Southeast Queens in 2020: 6.57\n",
      "Average PM2.5 in Jamaica in 2020: 6.73\n",
      "Average PM2.5 in Southwest Queens in 2020: 6.69\n",
      "Average PM2.5 in Ridgewood - Forest Hills in 2020: 6.91\n",
      "Average PM2.5 in Flushing - Clearview in 2020: 7.05\n",
      "Average PM2.5 in West Queens in 2020: 7.37\n",
      "Average PM2.5 in Long Island City - Astoria in 2020: 7.76\n",
      "Average PM2.5 in Upper West Side in 2020: 7.24\n",
      "Average PM2.5 in East Harlem in 2020: 7.27\n",
      "Average PM2.5 in Central Harlem - Morningside Heights in 2020: 7.36\n",
      "Average PM2.5 in Washington Heights in 2020: 7.35\n",
      "Average PM2.5 in Williamsburg - Bushwick in 2020: 7.55\n",
      "Average PM2.5 in Coney Island - Sheepshead Bay in 2020: 6.54\n",
      "Average PM2.5 in Bensonhurst - Bay Ridge in 2020: 6.69\n",
      "Average PM2.5 in Canarsie - Flatlands in 2020: 6.6\n",
      "Average PM2.5 in East Flatbush - Flatbush in 2020: 6.76\n",
      "Average PM2.5 in Borough Park in 2020: 6.74\n",
      "Average PM2.5 in Sunset Park in 2020: 7.27\n",
      "Average PM2.5 in East New York in 2020: 6.89\n",
      "Average PM2.5 in Bedford Stuyvesant - Crown Heights in 2020: 6.98\n",
      "Average PM2.5 in Downtown - Heights - Slope in 2020: 7.41\n",
      "Average PM2.5 in Greenpoint in 2020: 7.95\n",
      "Average PM2.5 in Pelham - Throgs Neck in 2020: 7.14\n",
      "Average PM2.5 in Fordham - Bronx Pk in 2020: 7.22\n",
      "Average PM2.5 in Northeast Bronx in 2020: 7.17\n",
      "Average PM2.5 in Kingsbridge - Riverdale in 2020: 7.22\n",
      "Average PM2.5 in South Beach - Tottenville in 2020: 6.51\n",
      "Average PM2.5 in Willowbrook in 2020: 6.6\n",
      "Average PM2.5 in Stapleton - St. George in 2020: 6.56\n",
      "Average PM2.5 in Port Richmond in 2020: 6.88\n",
      "Average PM2.5 in Fresh Meadows in 2020: 6.68\n",
      "Average PM2.5 in Bayside - Little Neck in 2020: 6.73\n",
      "Average PM2.5 in Lower Manhattan in 2020: 7.83\n",
      "Average PM2.5 in Union Square - Lower East Side in 2020: 8.1\n",
      "Average PM2.5 in Greenwich Village - SoHo in 2020: 8.45\n",
      "Average PM2.5 in Gramercy Park - Murray Hill in 2020: 8.4\n",
      "Average PM2.5 in Chelsea - Clinton in 2020: 8.7\n",
      "Average PM2.5 in Upper East Side in 2020: 7.44\n",
      "Average PM2.5 in Hunts Point - Mott Haven in 2020: 7.52\n",
      "Average PM2.5 in High Bridge - Morrisania in 2020: 7.24\n",
      "Average PM2.5 in Crotona -Tremont in 2020: 7.34\n"
     ]
    }
   ],
   "source": [
    "# d) Come up with at least two other questions to ask about the dataset and write code to answer them.\n",
    "\n",
    "# Question 1: What is the average pollution level in each borough for the year 2020?\n",
    "boroughs = {}\n",
    "for key in by_date.keys():\n",
    "    if key.split('/')[-1] == '20':\n",
    "        data = search_by_date(key, by_date)\n",
    "        for entry in data:\n",
    "            borough = entry[1]\n",
    "            pm25 = entry[3]\n",
    "            if borough not in boroughs:\n",
    "                boroughs[borough] = []\n",
    "            boroughs[borough].append(pm25)\n",
    "for borough in boroughs:\n",
    "    avg_pm25 = sum(boroughs[borough]) / len(boroughs[borough])\n",
    "    print(f\"Average PM2.5 in {borough} in 2020: {avg_pm25}\")"
   ]
  },
  {
   "cell_type": "code",
   "execution_count": 14,
   "id": "b198e114",
   "metadata": {},
   "outputs": [
    {
     "name": "stdout",
     "output_type": "stream",
     "text": [
      "Worst pollution in 2019 was UHF id 306 with PM2.5 of 11.75\n"
     ]
    }
   ],
   "source": [
    "# Question 2: Which UHF id had the least pollution average pm2.5 levels in 2018\n",
    "worst_pollutino = 0\n",
    "worst_uhf_id = ''\n",
    "\n",
    "for key in by_date.keys():\n",
    "    if key.split('/')[-1] != '18':\n",
    "        continue\n",
    "    data = search_by_date(key, by_date)\n",
    "    pm25_values = [entry[3] for entry in data]\n",
    "    max_pm25 = max(pm25_values)\n",
    "    if max_pm25 > worst_pollutino:\n",
    "        worst_pollutino = max_pm25\n",
    "        worst_uhf_id = data[pm25_values.index(max_pm25)][0]\n",
    "print(f\"Worst pollution in 2019 was UHF id {worst_uhf_id} with PM2.5 of {worst_pollutino}\")"
   ]
  }
 ],
 "metadata": {
  "kernelspec": {
   "display_name": "Python 3",
   "language": "python",
   "name": "python3"
  },
  "language_info": {
   "codemirror_mode": {
    "name": "ipython",
    "version": 3
   },
   "file_extension": ".py",
   "mimetype": "text/x-python",
   "name": "python",
   "nbconvert_exporter": "python",
   "pygments_lexer": "ipython3",
   "version": "3.13.9"
  }
 },
 "nbformat": 4,
 "nbformat_minor": 5
}
